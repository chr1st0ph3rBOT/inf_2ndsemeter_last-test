{
 "cells": [
  {
   "cell_type": "code",
   "execution_count": null,
   "id": "04599606",
   "metadata": {},
   "outputs": [],
   "source": [
    "# 74 계통도 저장\n",
    "llist = [[] for _ in range(7)]\n",
    "V=int(input())\n",
    "for i in range(V-1):\n",
    "    u, v = map(int, input().split())\n",
    "    llist[u].append(v)\n",
    "\n",
    "for i in range(1, V+1):\n",
    "    print(i, end = ' ')\n",
    "    for j in llist[i]:\n",
    "        print(j, end = ',')\n",
    "    print()"
   ]
  },
  {
   "cell_type": "code",
   "execution_count": 5,
   "id": "064d7d9c",
   "metadata": {},
   "outputs": [
    {
     "name": "stdout",
     "output_type": "stream",
     "text": [
      "T: {'A': 1, 'B': 2, 'C': 3, 'D': 4, 'E': 5, 'F': 10, 'G': 11}\n",
      "유전 거리: 3\n"
     ]
    }
   ],
   "source": [
    "# 75 (75, 76 시험 출제!! 매우 중요!!, 약간 변형) 유전거리계산(1차원리스트)\n",
    "# k = 높이 -> 최대 노드 개수: 2^(k+1) -1\n",
    "\n",
    "T = dict() # get() -> 없을땐 사전에 정의한 메시지 출력 -> 딕셔너리 복습!\n",
    "#s = input()\n",
    "s = '-ABCDE----FG----'\n",
    "#a, b = map(str, input().split()) # 계산하려는 두 노드\n",
    "a, b = 'D', 'G'\n",
    "\n",
    "# T 정의 구간\n",
    "p = 0\n",
    "ans = 0\n",
    "for i in s:\n",
    "    if i != \"-\":\n",
    "        T[i] = p\n",
    "    p += 1\n",
    "\n",
    "print(f'T: {T}')\n",
    "\n",
    "# 메인 알고리즘\n",
    "while T[a] != T[b]: # a와 b의 노드 번호가 같지 않으면 반복\n",
    "    if T[a] > T[b]: # a의 노드 번호가 b보다 크다면\n",
    "        a = s[T[a]//2] # a를 a의 부모 노드로 바꿈\n",
    "    else:\n",
    "        b = s[T[b]//2] # 아니면 b를 b의 부모 노드로 바꿈\n",
    "    ans += 1 # 유전거리가 하나 줄었을 테니까 최종에는 1 더해줌\n",
    "\n",
    "print(f'유전 거리: {ans}')"
   ]
  },
  {
   "cell_type": "code",
   "execution_count": 11,
   "id": "38a3b689",
   "metadata": {},
   "outputs": [
    {
     "data": {
      "text/plain": [
       "16"
      ]
     },
     "execution_count": 11,
     "metadata": {},
     "output_type": "execute_result"
    }
   ],
   "source": [
    "len(s)"
   ]
  },
  {
   "cell_type": "code",
   "execution_count": 12,
   "id": "8c51852e",
   "metadata": {},
   "outputs": [
    {
     "name": "stdout",
     "output_type": "stream",
     "text": [
      "3\n"
     ]
    }
   ],
   "source": [
    "# 76 재귀로 하면?\n",
    "\n",
    "# T는 트리 구조 이고 두 노드 사이의 유전 거리를 구하는 프로그램이야\n",
    "\n",
    "T = dict() # get() -> 없을땐 사전에 정의한 메시지 출력 -> 딕셔너리 복습!\n",
    "#s = input()\n",
    "s = '-ABCDE----FG----'\n",
    "#a, b = map(str, input().split()) # 계산하려는 두 노드\n",
    "a, b = 'D', 'G'\n",
    "\n",
    "# T 정의 구간\n",
    "p = 0 # s의 인덱스 역할\n",
    "ans = 0\n",
    "for i in s:\n",
    "    if i != \"-\":\n",
    "        T[i] = p\n",
    "    p += 1\n",
    "\n",
    "def sol(k, l):\n",
    "    global ans\n",
    "    if k == l:\n",
    "        return ans\n",
    "    if k > l:\n",
    "        ans += 1\n",
    "        return sol(k//2, l)\n",
    "    if k < l:\n",
    "        ans += 1\n",
    "        return sol(k, l//2)\n",
    "\n",
    "print(sol(T[a], T[b]))"
   ]
  },
  {
   "cell_type": "code",
   "execution_count": 1,
   "id": "fc5bd3ab",
   "metadata": {},
   "outputs": [
    {
     "name": "stdout",
     "output_type": "stream",
     "text": [
      "19\n"
     ]
    }
   ],
   "source": [
    "#77\n",
    "V = 7 #V는 정점의 수\n",
    "E = 11 #E는 간선의 수\n",
    "visited = [0]*11\n",
    "ok = False\n",
    "\n",
    "M = [[0, 2, 7, 5, 0, 6, 0],  # 1\n",
    "    [2, 0, 9, 0, 0, 0, 0],   # 2\n",
    "    [7, 9, 0, 0, 0, 0, 3],   # 3\n",
    "    [5, 0, 0, 0, 3, 6, 2],   # 4\n",
    "    [0, 0, 0, 3, 0, 3, 0],   # 5\n",
    "    [6, 0, 0, 6, 3, 0, 7],   # 6\n",
    "    [0, 0, 3, 2, 0, 7, 0]]   # 7\n",
    "\n",
    "def f(x, y, z, d):\n",
    "    global V, visited,  ans, M\n",
    "    if y == V:\n",
    "        if ans > d:\n",
    "            ans = d\n",
    "        return\n",
    "    visited[x] = True\n",
    "    for u in range(V):\n",
    "        w = M[x][u]\n",
    "        if w != 0 and not visited[u]:\n",
    "            z.append(u)\n",
    "            f(u, y + 1, z, d + w)\n",
    "            z.pop()\n",
    "    visited[x] = False\n",
    "    return\n",
    "\n",
    "\n",
    "ans = 123456789987654321\n",
    "\n",
    "#V, E = map(int, input().split())\n",
    "#M = [[0] * (V + 1) for _ in range(V + 1)]\n",
    "visited = [False] * (V + 1)\n",
    "'''\n",
    "for _ in range(E):\n",
    "    u, v, w = map(int, input().split())\n",
    "    if M[u][v] == 0:\n",
    "        M[u][v] = w\n",
    "        M[v][u] = w\n",
    "'''\n",
    "for v in range(V):\n",
    "    f(v, 1, [v], 0)\n",
    "\n",
    "print(ans)"
   ]
  },
  {
   "cell_type": "code",
   "execution_count": null,
   "id": "6f5ffc22",
   "metadata": {},
   "outputs": [],
   "source": [
    "IPT = [5,3,8,1,2,7]\n",
    "\n",
    "for i in range(len(IPT)):\n",
    "    print(IPT[i])\n",
    "    for j in range(len(IPT[:IPT[i]]), -1, -1):\n",
    "        if IPT[j] > IPT[i]:\n",
    "            IPT[j], IPT[i] = IPT[i], IPT[j]\n",
    "\n",
    "print(IPT)"
   ]
  },
  {
   "cell_type": "code",
   "execution_count": null,
   "id": "ef6ceeab",
   "metadata": {},
   "outputs": [],
   "source": [
    "IPT[:3]"
   ]
  }
 ],
 "metadata": {
  "kernelspec": {
   "display_name": "Python 3",
   "language": "python",
   "name": "python3"
  },
  "language_info": {
   "codemirror_mode": {
    "name": "ipython",
    "version": 3
   },
   "file_extension": ".py",
   "mimetype": "text/x-python",
   "name": "python",
   "nbconvert_exporter": "python",
   "pygments_lexer": "ipython3",
   "version": "3.12.10"
  }
 },
 "nbformat": 4,
 "nbformat_minor": 5
}
