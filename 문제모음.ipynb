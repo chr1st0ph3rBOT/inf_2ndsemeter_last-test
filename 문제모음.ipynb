{
 "cells": [
  {
   "cell_type": "code",
   "execution_count": null,
   "id": "04599606",
   "metadata": {},
   "outputs": [],
   "source": [
    "# 74 계통도 저장\n",
    "llist = [[] for _ in range(7)]\n",
    "V=int(input())\n",
    "for i in range(V-1):\n",
    "    u, v = map(int, input().split())\n",
    "    llist[u].append(v)\n",
    "\n",
    "for i in range(1, V+1):\n",
    "    print(i, end = ' ')\n",
    "    for j in llist[i]:\n",
    "        print(j, end = ',')\n",
    "    print()"
   ]
  },
  {
   "cell_type": "code",
   "execution_count": 5,
   "id": "064d7d9c",
   "metadata": {},
   "outputs": [
    {
     "name": "stdout",
     "output_type": "stream",
     "text": [
      "T: {'A': 1, 'B': 2, 'C': 3, 'D': 4, 'E': 5, 'F': 10, 'G': 11}\n",
      "유전 거리: 3\n"
     ]
    }
   ],
   "source": [
    "# 75 (75, 76 시험 출제!! 매우 중요!!, 약간 변형) 유전거리계산(1차원리스트)\n",
    "# k = 높이 -> 최대 노드 개수: 2^(k+1) -1\n",
    "\n",
    "T = dict() # get() -> 없을땐 사전에 정의한 메시지 출력 -> 딕셔너리 복습!\n",
    "#s = input()\n",
    "s = '-ABCDE----FG----'\n",
    "#a, b = map(str, input().split()) # 계산하려는 두 노드\n",
    "a, b = 'D', 'G'\n",
    "\n",
    "# T 정의 구간\n",
    "p = 0\n",
    "ans = 0\n",
    "for i in s:\n",
    "    if i != \"-\":\n",
    "        T[i] = p\n",
    "    p += 1\n",
    "\n",
    "print(f'T: {T}')\n",
    "\n",
    "# 메인 알고리즘\n",
    "while T[a] != T[b]: # a와 b의 노드 번호가 같지 않으면 반복\n",
    "    if T[a] > T[b]: # a의 노드 번호가 b보다 크다면\n",
    "        a = s[T[a]//2] # a를 a의 부모 노드로 바꿈\n",
    "    else:\n",
    "        b = s[T[b]//2] # 아니면 b를 b의 부모 노드로 바꿈\n",
    "    ans += 1 # 유전거리가 하나 줄었을 테니까 최종에는 1 더해줌\n",
    "\n",
    "print(f'유전 거리: {ans}')"
   ]
  },
  {
   "cell_type": "code",
   "execution_count": 11,
   "id": "38a3b689",
   "metadata": {},
   "outputs": [
    {
     "data": {
      "text/plain": [
       "16"
      ]
     },
     "execution_count": 11,
     "metadata": {},
     "output_type": "execute_result"
    }
   ],
   "source": [
    "len(s)"
   ]
  },
  {
   "cell_type": "code",
   "execution_count": null,
   "id": "8c51852e",
   "metadata": {},
   "outputs": [
    {
     "name": "stdout",
     "output_type": "stream",
     "text": [
      "[[1, 2, 3], [2, 4, 5], [3, 6, 7], [4, 8, 9], [5, 10, 11], [6, 12, 13], [7, 14, 15]]\n"
     ]
    }
   ],
   "source": [
    "# 76 재귀로 하면?\n",
    "\n",
    "# T는 트리 구조 이고 두 노드 사이의 유전 거리를 구하는 프로그램이야\n",
    "\n",
    "T = dict() # get() -> 없을땐 사전에 정의한 메시지 출력 -> 딕셔너리 복습!\n",
    "#s = input()\n",
    "s = '-ABCDE----FG----'\n",
    "#a, b = map(str, input().split()) # 계산하려는 두 노드\n",
    "a, b = 'D', 'G'\n",
    "\n",
    "# T 정의 구간\n",
    "p = 0\n",
    "ans = 0\n",
    "for i in s:\n",
    "    if i != \"-\":\n",
    "        T[i] = p\n",
    "    p += 1\n",
    "\n",
    "modules = []\n",
    "def module(k): # 모듈 정의\n",
    "    return [k, k*2, k*2 + 1]\n",
    "\n",
    "for i in range((len(s)-1)//3 + 2):\n",
    "    modules.append(module(i+1))\n",
    "\n",
    "for i in modules:\n",
    "    try:\n",
    "        a_module, a_index = i, i.index(T[a])\n",
    "        b_module, b_index = i, i.index(T[b])\n",
    "    except:\n",
    "        continue\n",
    "\n",
    "# 이렇게 해서 모듈 별로 탐ㅅ개을 하는 재귀 구조를 만들고 싶어\n",
    "\n",
    "print(modules)"
   ]
  },
  {
   "cell_type": "code",
   "execution_count": null,
   "id": "bddc7ded",
   "metadata": {},
   "outputs": [],
   "source": [
    "# 77\n",
    "# 백트레킹\n",
    "V = 7 #V는 정점의 수\n",
    "E = 11 #E는 간선의 수\n",
    "visited = [0]*11\n",
    "ok = False\n",
    "\n",
    "M = [[1,2,3,6],\n",
    "    [0,2],\n",
    "    [0,1,6],\n",
    "    [0,4,5,6],\n",
    "    [3,5],\n",
    "    [3,4,6],\n",
    "    [0,2,3,5]]\n",
    "\n",
    "routes = []\n",
    "\n",
    "def main(x, y, z): #x는 현재 노드, y는 방문한 노드 수, z는 현재 까지 경로(type=str)\n",
    "    global V, visited, ok\n",
    "    if ok: return #ok FLAG가 참이면 종료\n",
    "    if y == V: # 방문한 노드 수가 전체 노드 수와 같은가?\n",
    "        ok = True # 모든 노드를 방문했으므로 ok는 참이됨\n",
    "        for i in z: # 현재까지 경로 히스토리에서 하나씩 뽑아서 i에 넣어\n",
    "            print(i, end=' ') # 경로를 출력\n",
    "        return\n",
    "    visited[x] = True # 현재 노드를 방문함\n",
    "    for i in M[x]: # M[x]는 x에서 가능한 노드\n",
    "        if visited[i] == False: # 가능한 노드 중 초행 인가?\n",
    "            z.append(i) # 다녀간 곳에 i 노드 추가 \n",
    "            main(i, y+1, z) # 다음 스탭 진행 i는 현재 노드, y+1은 다녀본 노드, z는 현재 까지 경로\n",
    "            z.pop() # 여기면 백트래킹한거니까 i 제거\n",
    "    visited[x] = False # 백트랙 해야하니까 현재 노드 제거\n",
    "    return # 재귀 탈출\n",
    "\n",
    "for i in range(0, V+1):\n",
    "    main(i, 1, [i]) # initiating: i는 현재 노드, 1은 방문한 수, [i]는 현재까지 방문한거\n",
    "    if ok: \n",
    "        k = []\n",
    "        for i in visited:\n",
    "            k += \n",
    "\n",
    "if not ok: print('IMPOSSIBLE')"
   ]
  }
 ],
 "metadata": {
  "kernelspec": {
   "display_name": "base",
   "language": "python",
   "name": "python3"
  },
  "language_info": {
   "codemirror_mode": {
    "name": "ipython",
    "version": 3
   },
   "file_extension": ".py",
   "mimetype": "text/x-python",
   "name": "python",
   "nbconvert_exporter": "python",
   "pygments_lexer": "ipython3",
   "version": "3.13.5"
  }
 },
 "nbformat": 4,
 "nbformat_minor": 5
}
