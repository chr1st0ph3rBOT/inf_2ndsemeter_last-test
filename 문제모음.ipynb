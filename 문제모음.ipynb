{
 "cells": [
  {
   "cell_type": "code",
   "execution_count": null,
   "id": "04599606",
   "metadata": {},
   "outputs": [],
   "source": [
    "# 74 계통도 저장\n",
    "llist = [[] for _ in range(7)]\n",
    "V=int(input())\n",
    "for i in range(V-1):\n",
    "    u, v = map(int, input().split())\n",
    "    llist[u].append(v)\n",
    "\n",
    "for i in range(1, V+1):\n",
    "    print(i, end = ' ')\n",
    "    for j in llist[i]:\n",
    "        print(j, end = ',')\n",
    "    print()"
   ]
  },
  {
   "cell_type": "code",
   "execution_count": null,
   "id": "064d7d9c",
   "metadata": {},
   "outputs": [],
   "source": [
    "# 75 (75, 76 시험 출제!! 매우 중요!!, 약간 변형)\n"
   ]
  }
 ],
 "metadata": {
  "kernelspec": {
   "display_name": "base",
   "language": "python",
   "name": "python3"
  },
  "language_info": {
   "codemirror_mode": {
    "name": "ipython",
    "version": 3
   },
   "file_extension": ".py",
   "mimetype": "text/x-python",
   "name": "python",
   "nbconvert_exporter": "python",
   "pygments_lexer": "ipython3",
   "version": "3.13.5"
  }
 },
 "nbformat": 4,
 "nbformat_minor": 5
}
