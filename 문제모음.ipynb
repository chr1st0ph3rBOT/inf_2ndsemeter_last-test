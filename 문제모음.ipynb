{
 "cells": [
  {
   "cell_type": "code",
   "execution_count": null,
   "id": "04599606",
   "metadata": {},
   "outputs": [],
   "source": [
    "# 74 계통도 저장\n",
    "llist = [[] for _ in range(7)]\n",
    "V=int(input())\n",
    "for i in range(V-1):\n",
    "    u, v = map(int, input().split())\n",
    "    llist[u].append(v)\n",
    "\n",
    "for i in range(1, V+1):\n",
    "    print(i, end = ' ')\n",
    "    for j in llist[i]:\n",
    "        print(j, end = ',')\n",
    "    print()"
   ]
  },
  {
   "cell_type": "code",
   "execution_count": 5,
   "id": "064d7d9c",
   "metadata": {},
   "outputs": [
    {
     "name": "stdout",
     "output_type": "stream",
     "text": [
      "T: {'A': 1, 'B': 2, 'C': 3, 'D': 4, 'E': 5, 'F': 10, 'G': 11}\n",
      "유전 거리: 3\n"
     ]
    }
   ],
   "source": [
    "# 75 (75, 76 시험 출제!! 매우 중요!!, 약간 변형) 유전거리계산(1차원리스트)\n",
    "# k = 높이 -> 최대 노드 개수: 2^(k+1) -1\n",
    "\n",
    "T = dict() # get() -> 없을땐 사전에 정의한 메시지 출력 -> 딕셔너리 복습!\n",
    "#s = input()\n",
    "s = '-ABCDE----FG----'\n",
    "#a, b = map(str, input().split()) # 계산하려는 두 노드\n",
    "a, b = 'D', 'G'\n",
    "\n",
    "# T 정의 구간\n",
    "p = 0\n",
    "ans = 0\n",
    "for i in s:\n",
    "    if i != \"-\":\n",
    "        T[i] = p\n",
    "    p += 1\n",
    "\n",
    "print(f'T: {T}')\n",
    "\n",
    "# 메인 알고리즘\n",
    "while T[a] != T[b]: # a와 b의 노드 번호가 같지 않으면 반복\n",
    "    if T[a] > T[b]: # a의 노드 번호가 b보다 크다면\n",
    "        a = s[T[a]//2] # a를 a의 부모 노드로 바꿈\n",
    "    else:\n",
    "        b = s[T[b]//2] # 아니면 b를 b의 부모 노드로 바꿈\n",
    "    ans += 1 # 유전거리가 하나 줄었을 테니까 최종에는 1 더해줌\n",
    "\n",
    "print(f'유전 거리: {ans}')"
   ]
  },
  {
   "cell_type": "code",
   "execution_count": 11,
   "id": "38a3b689",
   "metadata": {},
   "outputs": [
    {
     "data": {
      "text/plain": [
       "16"
      ]
     },
     "execution_count": 11,
     "metadata": {},
     "output_type": "execute_result"
    }
   ],
   "source": [
    "len(s)"
   ]
  },
  {
   "cell_type": "code",
   "execution_count": 12,
   "id": "8c51852e",
   "metadata": {},
   "outputs": [
    {
     "name": "stdout",
     "output_type": "stream",
     "text": [
      "3\n"
     ]
    }
   ],
   "source": [
    "# 76 재귀로 하면?\n",
    "\n",
    "# T는 트리 구조 이고 두 노드 사이의 유전 거리를 구하는 프로그램이야\n",
    "\n",
    "T = dict() # get() -> 없을땐 사전에 정의한 메시지 출력 -> 딕셔너리 복습!\n",
    "#s = input()\n",
    "s = '-ABCDE----FG----'\n",
    "#a, b = map(str, input().split()) # 계산하려는 두 노드\n",
    "a, b = 'D', 'G'\n",
    "\n",
    "# T 정의 구간\n",
    "p = 0 # s의 인덱스 역할\n",
    "ans = 0\n",
    "for i in s:\n",
    "    if i != \"-\":\n",
    "        T[i] = p\n",
    "    p += 1\n",
    "\n",
    "def sol(k, l):\n",
    "    global ans\n",
    "    if k == l:\n",
    "        return ans\n",
    "    if k > l:\n",
    "        ans += 1\n",
    "        return sol(k//2, l)\n",
    "    if k < l:\n",
    "        ans += 1\n",
    "        return sol(k, l//2)\n",
    "\n",
    "print(sol(T[a], T[b]))"
   ]
  },
  {
   "cell_type": "code",
   "execution_count": 1,
   "id": "fc5bd3ab",
   "metadata": {},
   "outputs": [
    {
     "name": "stdout",
     "output_type": "stream",
     "text": [
      "19\n"
     ]
    }
   ],
   "source": [
    "#77\n",
    "V = 7 #V는 정점의 수\n",
    "E = 11 #E는 간선의 수\n",
    "visited = [0]*11\n",
    "ok = False\n",
    "\n",
    "M = [[0, 2, 7, 5, 0, 6, 0],  # 1\n",
    "    [2, 0, 9, 0, 0, 0, 0],   # 2\n",
    "    [7, 9, 0, 0, 0, 0, 3],   # 3\n",
    "    [5, 0, 0, 0, 3, 6, 2],   # 4\n",
    "    [0, 0, 0, 3, 0, 3, 0],   # 5\n",
    "    [6, 0, 0, 6, 3, 0, 7],   # 6\n",
    "    [0, 0, 3, 2, 0, 7, 0]]   # 7\n",
    "\n",
    "def f(x, y, z, d):\n",
    "    global V, visited,  ans, M\n",
    "    if y == V:\n",
    "        if ans > d:\n",
    "            ans = d\n",
    "        return\n",
    "    visited[x] = True\n",
    "    for u in range(V):\n",
    "        w = M[x][u]\n",
    "        if w != 0 and not visited[u]:\n",
    "            z.append(u)\n",
    "            f(u, y + 1, z, d + w)\n",
    "            z.pop()\n",
    "    visited[x] = False\n",
    "    return\n",
    "\n",
    "\n",
    "ans = 123456789987654321\n",
    "\n",
    "#V, E = map(int, input().split())\n",
    "#M = [[0] * (V + 1) for _ in range(V + 1)]\n",
    "visited = [False] * (V + 1)\n",
    "'''\n",
    "for _ in range(E):\n",
    "    u, v, w = map(int, input().split())\n",
    "    if M[u][v] == 0:\n",
    "        M[u][v] = w\n",
    "        M[v][u] = w\n",
    "'''\n",
    "for v in range(V):\n",
    "    f(v, 1, [v], 0)\n",
    "\n",
    "print(ans)"
   ]
  },
  {
   "cell_type": "code",
   "execution_count": null,
   "id": "6f5ffc22",
   "metadata": {},
   "outputs": [
    {
     "name": "stdout",
     "output_type": "stream",
     "text": [
      "5\n",
      "3\n",
      "8\n",
      "2\n"
     ]
    },
    {
     "ename": "IndexError",
     "evalue": "list index out of range",
     "output_type": "error",
     "traceback": [
      "\u001b[31m---------------------------------------------------------------------------\u001b[39m",
      "\u001b[31mIndexError\u001b[39m                                Traceback (most recent call last)",
      "\u001b[36mCell\u001b[39m\u001b[36m \u001b[39m\u001b[32mIn[11]\u001b[39m\u001b[32m, line 6\u001b[39m\n\u001b[32m      3\u001b[39m length = \u001b[38;5;28mlen\u001b[39m(IPT)\n\u001b[32m      5\u001b[39m \u001b[38;5;28;01mfor\u001b[39;00m i \u001b[38;5;129;01min\u001b[39;00m \u001b[38;5;28mrange\u001b[39m(length-\u001b[32m1\u001b[39m):\n\u001b[32m----> \u001b[39m\u001b[32m6\u001b[39m     \u001b[38;5;28mprint\u001b[39m(\u001b[43mIPT\u001b[49m\u001b[43m[\u001b[49m\u001b[43mi\u001b[49m\u001b[43m]\u001b[49m)\n\u001b[32m      7\u001b[39m     \u001b[38;5;28;01mfor\u001b[39;00m j \u001b[38;5;129;01min\u001b[39;00m \u001b[38;5;28mrange\u001b[39m(\u001b[38;5;28mlen\u001b[39m(IPT[:i])-\u001b[32m1\u001b[39m, \u001b[32m0\u001b[39m, -\u001b[32m1\u001b[39m):\n\u001b[32m      8\u001b[39m         \u001b[38;5;28;01mif\u001b[39;00m IPT[j] < IPT[i]:\n",
      "\u001b[31mIndexError\u001b[39m: list index out of range"
     ]
    }
   ],
   "source": [
    "IPT = [5,3,8,1,2,7]\n",
    "\n",
    "result = []\n",
    "\n",
    "for i in range(len(IPT)):\n",
    "    for j in range(i):\n",
    "        if IPT[i] < IPT[j]:\n",
    "            "
   ]
  },
  {
   "cell_type": "code",
   "execution_count": 3,
   "id": "ef6ceeab",
   "metadata": {},
   "outputs": [
    {
     "name": "stdout",
     "output_type": "stream",
     "text": [
      "[1, 2, 3, 5, 7, 8]\n",
      "8\n"
     ]
    }
   ],
   "source": [
    "data = [5,3,8,1,2,7]\n",
    "cnt = 0\n",
    "\n",
    "for i in range(1, len(data)):\n",
    "    for j in range(i, 0 ,-1):\n",
    "        if data[j] < data[j-1]:\n",
    "            temp = data[j]\n",
    "            data[j] = data[j-1]\n",
    "            data[j-1] = temp\n",
    "            cnt += 1\n",
    "\n",
    "print(data)\n",
    "print(cnt)"
   ]
  },
  {
   "cell_type": "code",
   "execution_count": null,
   "id": "a17d9494",
   "metadata": {},
   "outputs": [
    {
     "name": "stdout",
     "output_type": "stream",
     "text": [
      "[1, 2, 3, 4, 5, 6, 8, 9]\n"
     ]
    }
   ],
   "source": [
    "data = [5, 8, 2, 9, 4, 1, 3, 6]\n",
    "\n",
    "def sol(start, end):\n",
    "    if start >= end:\n",
    "        return\n",
    "    pivot = start\n",
    "    left = start + 1\n",
    "    right = end\n",
    "    while left <= right:\n",
    "        while left <= end and data[left]<=data[pivot]:  # left <= end 범위에 의한 전제 조건\n",
    "            left = left + 1 #left += 1\n",
    "        while right > start and data[right] >= data[pivot]:  # right > start 범위에 의한 전제 조건\n",
    "            right  = right -1 #right -= 1\n",
    "        if left > right: # j와 pivot 간의 자리 바꿈\n",
    "            data[right], data[pivot] = data[pivot], data[right]\n",
    "        else:\n",
    "            data[left], data[right] = data[right], data[left]\n",
    "\n",
    "    sol(start, right -1) # 작은 것들\n",
    "    sol(right+1, end)\n",
    "\n",
    "sol(0, 7)\n",
    "print(data)"
   ]
  },
  {
   "cell_type": "code",
   "execution_count": null,
   "id": "d8e0b62b",
   "metadata": {},
   "outputs": [
    {
     "data": {
      "text/plain": [
       "3"
      ]
     },
     "execution_count": 3,
     "metadata": {},
     "output_type": "execute_result"
    }
   ],
   "source": [
    "# 삼각형 화단 O(n^3)\n",
    "def soll(l):\n",
    "    c = 0\n",
    "    for i in range(1, l + 1):\n",
    "        for j in range(i, l + 1):\n",
    "            for k in range(j, l + 1):\n",
    "                if i + j + k == l and k < i +j:\n",
    "                    c += 1\n",
    "    return c\n",
    "\n",
    "soll(9)"
   ]
  },
  {
   "cell_type": "code",
   "execution_count": null,
   "id": "07f3f146",
   "metadata": {},
   "outputs": [],
   "source": [
    "# 삼각형 화단 O(n^2)\n"
   ]
  },
  {
   "cell_type": "code",
   "execution_count": null,
   "id": "5847c113",
   "metadata": {},
   "outputs": [],
   "source": [
    "# 선택 정렬\n",
    "data = [5, 8, 2, 9, 4, 1, 3, 6]\n",
    "\n",
    "def sol(data):\n",
    "    if len(data) == 0:\n",
    "        return\n",
    "    \n",
    "    "
   ]
  },
  {
   "cell_type": "code",
   "execution_count": 7,
   "id": "49f9faa9",
   "metadata": {},
   "outputs": [
    {
     "data": {
      "text/plain": [
       "8"
      ]
     },
     "execution_count": 7,
     "metadata": {},
     "output_type": "execute_result"
    }
   ],
   "source": [
    "# 자연수의 합으로 n 만들기\n",
    "\n",
    "c = 0\n",
    "def sol(n):\n",
    "    global c\n",
    "    if n == 0:\n",
    "        c += 1\n",
    "        return\n",
    "    for i in range(n):\n",
    "        sol(i)\n",
    "\n",
    "sol(4)\n",
    "c"
   ]
  }
 ],
 "metadata": {
  "kernelspec": {
   "display_name": "dd32",
   "language": "python",
   "name": "python3"
  },
  "language_info": {
   "codemirror_mode": {
    "name": "ipython",
    "version": 3
   },
   "file_extension": ".py",
   "mimetype": "text/x-python",
   "name": "python",
   "nbconvert_exporter": "python",
   "pygments_lexer": "ipython3",
   "version": "3.11.13"
  }
 },
 "nbformat": 4,
 "nbformat_minor": 5
}
